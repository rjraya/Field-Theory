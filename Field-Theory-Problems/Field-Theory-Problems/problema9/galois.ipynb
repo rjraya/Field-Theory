{
 "cells": [
  {
   "cell_type": "code",
   "execution_count": 160,
   "metadata": {
    "collapsed": true
   },
   "outputs": [],
   "source": [
    "# Gives cubic resolvent of a given polynomial of degree 4\n",
    "\n",
    "def cubicResolvent(P):\n",
    "    coeff = list(P)\n",
    "    a0 = coeff[0]; a1 = coeff[1]; a2 = coeff[2]; a3 = coeff[3];\n",
    "    res = x^3 - a2*x^2+(a1*a3-4*a0)*x+(-a3^2*a0+4*a2*a0-a1^2)\n",
    "    return res\n",
    "\n",
    "# Given a separable monic polynomial over Q of degree 2 compute its Galois group\n",
    "\n",
    "def galois2(P):\n",
    "    if P.disc().is_square():\n",
    "        print \"Galois group is A2\"\n",
    "    else:\n",
    "        print \"Galois group is S2\"\n",
    "        \n",
    "# Given a separable monic polynomial over Q of degree 3 compute its Galois group\n",
    "\n",
    "def galois3(P):\n",
    "    if not P.is_irreducible():\n",
    "        factors = list(P.factor())\n",
    "        galois2(P.quo_rem(factors[0][0])[0])\n",
    "    else:\n",
    "        if P.disc().is_square():\n",
    "            print \"Galois group is A3\"\n",
    "        else:\n",
    "            print \"Galois group is S3\"\n",
    "            \n",
    "# Given a separable monic polynomial over Q of degree 4 compute its Galois group\n",
    "\n",
    "def galois4(P):\n",
    "    if not P.is_irreducible():\n",
    "        factors = list(P.factor())\n",
    "        deg = factors[0][0].degree()\n",
    "        if deg == 1:               # we assume list ordered by degrees\n",
    "            galois3(P.quo_rem(factors[0][0])[0]) # f = (x - a)g => galois(g)\n",
    "        else:\n",
    "            if len(factors) == 1:  # two equal factors of degree 2    \n",
    "                g1 = g2 = factors[0][0]                \n",
    "            else:\n",
    "                g1 = factors[0][0]\n",
    "                g2 = factors[1][0]\n",
    "            if (g1.discriminant() * g2.discriminant()).is_square():\n",
    "                print \"Galois group is C2\"\n",
    "            else:\n",
    "                print \"Galois group is C2 x C2\"\n",
    "    else:       \n",
    "        G = cubicResolvent(P)\n",
    "        gfactors = list(G.factor())\n",
    "        if len(gfactors) > 1:\n",
    "            if len(gfactors) == 3:\n",
    "                print \"Galois group is V = C2 x C2\" # klein type\n",
    "            else:\n",
    "                root = gfactors[0][0].roots()[0][0]\n",
    "                coeff = list(P)\n",
    "                a0 = coeff[0]; a1 = coeff[1]; a2 = coeff[2]; a3 = coeff[3];\n",
    "                radical1 = (a3^2 - 4*(a2 - root)) * P.discriminant()\n",
    "                radical2 = (root^2 - 4*a0) * P.discriminant() \n",
    "                if radical1.is_square() and radical2.is_square():\n",
    "                    print \"Galois group is C4\"\n",
    "                else:\n",
    "                    print \"Galois group is D4\"\n",
    "        else:\n",
    "            if P.discriminant().is_square():\n",
    "                \"Galois group is A3\"\n",
    "            else:\n",
    "                \"Galois group is S4\"\n",
    "                \n"
   ]
  },
  {
   "cell_type": "code",
   "execution_count": 133,
   "metadata": {
    "collapsed": true
   },
   "outputs": [],
   "source": [
    "# Given a separable monic polynomial over Q of degree 5 compute its Galois group\n",
    "                \n",
    "def galois5(P):\n",
    "    if not P.is_irreducible():\n",
    "        factors = list(P.factor())\n",
    "        deg = factors[0][0].degree()\n",
    "        if deg == 1:               # we assume list ordered by degrees\n",
    "            galois4(P.quo_rem(factors[0][0])[0]) # f = (x - a)g => galois(g), avoid linear multiplicities\n",
    "        else:\n",
    "            if deg == 2:\n",
    "                f2 = factors[0][0]\n",
    "                f1 = factors[1][0]\n",
    "                if (f1.discriminant()*f2.discriminant()).is_square():\n",
    "                    print \"Galois group is S3\"\n",
    "                else:\n",
    "                    if f1.discriminant().is_square():\n",
    "                        print \"Galois group is A3 x S2\"\n",
    "                    else:\n",
    "                        print \"Galois group is S3 x S2\"\n",
    "            else:\n",
    "                print \"error when quintic is reducible in 2-3 polynomials\"\n",
    "    else:\n",
    "        proots = P.roots(QQbar, multiplicities=False)\n",
    "        alpha = proots[0]\n",
    "        K = QQ[alpha]\n",
    "        pfactors = list(K['x'](P).factor())\n",
    "        if len(pfactors) == 2 and pfactors[0][0].degree() == 1 and pfactors[1][0].degree() == 4:\n",
    "            if P.discriminant().is_square():\n",
    "                print \"Galois group is A5\"\n",
    "            else:\n",
    "                beta = proots[1]\n",
    "                K, (a,b), phi = number_field_elements_from_algebraics([alpha,beta])\n",
    "                if len(list(K['x'](P).factor())) == 5: # polynomial splits completely\n",
    "                    print \"Galois group is F20\"\n",
    "                else:\n",
    "                    print \"Galois group is S5\"\n",
    "                \n",
    "        else:\n",
    "            if len(pfactors) == 5:\n",
    "                print \"Galois group is C5\"\n",
    "            else:\n",
    "                print \"Galois group is D5\""
   ]
  },
  {
   "cell_type": "code",
   "execution_count": 177,
   "metadata": {
    "collapsed": false
   },
   "outputs": [
    {
     "name": "stdout",
     "output_type": "stream",
     "text": [
      "Galois group is A3\n",
      "Expected A3\n",
      "Galois group is D4\n",
      "Expected D4\n",
      "Galois group is C2 x C2\n",
      "Expected C2 x C2\n",
      "Galois group is C2\n",
      "Expected C2\n",
      "Galois group is C2 x C2\n",
      "Expected C2 x C2\n",
      "Galois group is C4\n",
      "Expected C4\n",
      "Galois group is C4\n",
      "Expected C4\n",
      "Galois group is C4\n",
      "Expected C4\n",
      "Galois group is S5\n",
      "Expected S5\n",
      "Galois group is A5\n",
      "Expected A5\n",
      "Galois group is S5\n",
      "Expected S5\n",
      "Galois group is F20\n",
      "Expected F20\n",
      "Galois group is S3 x S2\n",
      "Expected S3 x S2\n",
      "Galois group is D5\n",
      "Expected D5\n",
      "Galois group is C5\n",
      "Expected C5\n",
      "Galois group is S3\n",
      "Expected S3\n",
      "Galois group is S2\n",
      "Expected S2\n"
     ]
    }
   ],
   "source": [
    "# Polynomial tests\n",
    "\n",
    "x = polygen(QQ, 'x')\n",
    "P = (x^3 - 3*x - 1)*(x-3)\n",
    "galois4(P); print \"Expected A3\"\n",
    "P = x^4 - 3\n",
    "galois4(P); print \"Expected D4\"\n",
    "P = x^4-4\n",
    "galois4(P); print \"Expected C2 x C2\"\n",
    "P = (x^2+x+1)*(x^2+3)\n",
    "galois4(P); print \"Expected C2\"\n",
    "P = (x^2 + 1)*(x^2 - 2)\n",
    "galois4(P);  print \"Expected C2 x C2\"\n",
    "P = x^4 + 5*x + 5\n",
    "galois4(P); print \"Expected C4\"\n",
    "P = x^4 + 8*x + 14\n",
    "galois4(P); print \"Expected C4\"\n",
    "P = x^4 + 13*x +39\n",
    "galois4(P); print \"Expected C4\"\n",
    "P = x^5 - 2*x^4 - 2*x^2 + 2*x + 6\n",
    "galois5(P); print \"Expected S5\"\n",
    "P = x^5 + 20*x + 16 \n",
    "galois5(P); print \"Expected A5\"\n",
    "P = x^5 - 5*x + 10                      \n",
    "galois5(P); print \"Expected S5\"\n",
    "P = x^5 - 2                             \n",
    "galois5(P); print \"Expected F20\"\n",
    "P = x^5 + x - 1                        \n",
    "galois5(P); print \"Expected S3 x S2\"\n",
    "P = x^5 + x^4 - 5*x^3 - 4*x^2 + 3*x + 1 \n",
    "galois5(P); print \"Expected D5\"\n",
    "P = x^5 + x^4 - 4*x^3 - 3*x^2 + 3*x + 1 \n",
    "galois5(P); print \"Expected C5\"\n",
    "\n",
    "# Emma Lehmer quintic\n",
    "def lehmer_quintic(n):\n",
    "    y = polygen(QQ, 'y')\n",
    "    return y^5 + n^2*y^4 - (2*n^3 + 6*n^2 + 10*n + 10)*y^3 + (n^4 + 5*n^3 + 11*n^2 + 15*n + 5)*y^2 + (n^3 + 4*n^2 + 10*n + 10)*y +1\n",
    "P = lehmer_quintic(0)\n",
    "def lehmer_quintic2(m,p,q,r):            # non-parametric version, not any combination works. gives examples, though\n",
    "    return x^5+x^4-4*m*x^3+p*x^2+q*x+r\n",
    "\n",
    "P = x^5 + x^4 + x^2                    \n",
    "galois5(P); print \"Expected S3\"\n",
    "P = x^2*(x^2+1)                         \n",
    "galois4(P); print \"Expected S2\""
   ]
  },
  {
   "cell_type": "code",
   "execution_count": 173,
   "metadata": {
    "collapsed": false,
    "scrolled": false
   },
   "outputs": [
    {
     "data": {
      "text/plain": [
       "Galois group PARI group [2, -1, 1, \"S2\"] of degree 2 of the Number Field in theta_1 with defining polynomial x^2 + 3"
      ]
     },
     "execution_count": 173,
     "metadata": {},
     "output_type": "execute_result"
    }
   ],
   "source": [
    " G = NumberField(x^2 + 3, 'theta_1').galois_group(type=\"pari\"); G"
   ]
  },
  {
   "cell_type": "code",
   "execution_count": 165,
   "metadata": {
    "collapsed": false
   },
   "outputs": [
    {
     "data": {
      "text/plain": [
       "(x^2 - 2) * (x^2 + 2)"
      ]
     },
     "execution_count": 165,
     "metadata": {},
     "output_type": "execute_result"
    }
   ],
   "source": [
    "factor(x^4 - 4)\n"
   ]
  },
  {
   "cell_type": "code",
   "execution_count": null,
   "metadata": {
    "collapsed": true
   },
   "outputs": [],
   "source": []
  }
 ],
 "metadata": {
  "kernelspec": {
   "display_name": "SageMath 8.0",
   "language": "",
   "name": "sagemath"
  },
  "language_info": {
   "codemirror_mode": {
    "name": "ipython",
    "version": 2
   },
   "file_extension": ".py",
   "mimetype": "text/x-python",
   "name": "python",
   "nbconvert_exporter": "python",
   "pygments_lexer": "ipython2",
   "version": "2.7.13"
  }
 },
 "nbformat": 4,
 "nbformat_minor": 2
}
